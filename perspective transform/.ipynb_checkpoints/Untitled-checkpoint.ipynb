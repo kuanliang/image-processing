{
 "cells": [
  {
   "cell_type": "code",
   "execution_count": null,
   "metadata": {
    "collapsed": false
   },
   "outputs": [],
   "source": [
    "import pandas as pd\n",
    "import numpy as np"
   ]
  },
  {
   "cell_type": "code",
   "execution_count": null,
   "metadata": {
    "collapsed": false
   },
   "outputs": [],
   "source": [
    "!ls ./data/"
   ]
  },
  {
   "cell_type": "code",
   "execution_count": null,
   "metadata": {
    "collapsed": false
   },
   "outputs": [],
   "source": [
    "ratio24 = pd.read_csv('./data/distance_ratio_24sectors.csv', sep=';', index_col='metric')"
   ]
  },
  {
   "cell_type": "code",
   "execution_count": null,
   "metadata": {
    "collapsed": false
   },
   "outputs": [],
   "source": [
    "ratio24"
   ]
  },
  {
   "cell_type": "code",
   "execution_count": null,
   "metadata": {
    "collapsed": true
   },
   "outputs": [],
   "source": [
    "import surlib"
   ]
  },
  {
   "cell_type": "markdown",
   "metadata": {},
   "source": [
    "### read in dataframe list"
   ]
  },
  {
   "cell_type": "code",
   "execution_count": null,
   "metadata": {
    "collapsed": true
   },
   "outputs": [],
   "source": [
    "dfList = surlib.csvToDf('./data/100SN_CASE1/')"
   ]
  },
  {
   "cell_type": "markdown",
   "metadata": {},
   "source": [
    "### rename index "
   ]
  },
  {
   "cell_type": "code",
   "execution_count": null,
   "metadata": {
    "collapsed": false
   },
   "outputs": [],
   "source": [
    "len(dfList)"
   ]
  },
  {
   "cell_type": "code",
   "execution_count": null,
   "metadata": {
    "collapsed": false
   },
   "outputs": [],
   "source": [
    "dfList[0][1]"
   ]
  },
  {
   "cell_type": "code",
   "execution_count": null,
   "metadata": {
    "collapsed": false
   },
   "outputs": [],
   "source": [
    "dfList[1][0]"
   ]
  },
  {
   "cell_type": "code",
   "execution_count": null,
   "metadata": {
    "collapsed": false
   },
   "outputs": [],
   "source": [
    "surlib.xlsToCsv('./data/100SN_CASE1/')"
   ]
  },
  {
   "cell_type": "markdown",
   "metadata": {},
   "source": [
    "## read in picture1 and picture2 size data"
   ]
  },
  {
   "cell_type": "code",
   "execution_count": null,
   "metadata": {
    "collapsed": false
   },
   "outputs": [],
   "source": [
    "pic1_size = pd.read_csv('./data/pic1_size.csv', sep=';')"
   ]
  },
  {
   "cell_type": "code",
   "execution_count": null,
   "metadata": {
    "collapsed": false
   },
   "outputs": [],
   "source": [
    "pic2_size = pd.read_csv('./data/pic2_size.csv', sep=';')"
   ]
  },
  {
   "cell_type": "code",
   "execution_count": null,
   "metadata": {
    "collapsed": true
   },
   "outputs": [],
   "source": [
    "import re"
   ]
  },
  {
   "cell_type": "code",
   "execution_count": null,
   "metadata": {
    "collapsed": false
   },
   "outputs": [],
   "source": [
    "pic1_size.index = [re.sub('_+', '', x) for x in pic2_size['SN']]\n",
    "del pic1_size['SN']"
   ]
  },
  {
   "cell_type": "code",
   "execution_count": null,
   "metadata": {
    "collapsed": false
   },
   "outputs": [],
   "source": [
    "pic2_size.index = [re.sub('_+', '', x) for x in pic2_size['SN']]\n",
    "del pic2_size['SN']"
   ]
  },
  {
   "cell_type": "code",
   "execution_count": null,
   "metadata": {
    "collapsed": false
   },
   "outputs": [],
   "source": [
    "pic2_size - pic1_size"
   ]
  },
  {
   "cell_type": "code",
   "execution_count": null,
   "metadata": {
    "collapsed": false
   },
   "outputs": [],
   "source": [
    "dfList[0][1]"
   ]
  },
  {
   "cell_type": "code",
   "execution_count": null,
   "metadata": {
    "collapsed": false
   },
   "outputs": [],
   "source": [
    "ratio24"
   ]
  },
  {
   "cell_type": "code",
   "execution_count": null,
   "metadata": {
    "collapsed": false
   },
   "outputs": [],
   "source": [
    "ratio24.loc['X']['Battery_Left']"
   ]
  },
  {
   "cell_type": "code",
   "execution_count": null,
   "metadata": {
    "collapsed": false,
    "scrolled": true
   },
   "outputs": [],
   "source": [
    "dfList[0][0].index = [re.sub('_+', '', x) for x in dfList[0][0]['SN']]"
   ]
  },
  {
   "cell_type": "code",
   "execution_count": null,
   "metadata": {
    "collapsed": false
   },
   "outputs": [],
   "source": [
    "dfList[0][0]"
   ]
  },
  {
   "cell_type": "code",
   "execution_count": null,
   "metadata": {
    "collapsed": false
   },
   "outputs": [],
   "source": [
    "for item in dfList:\n",
    "    name = item[1]\n",
    "    if name.startswith('after'):\n",
    "        df = item[0]\n",
    "        name = item[1]\n",
    "        name =  re.sub(\"after12_N66_L._\", \"\", name)\n",
    "        name =  re.sub(\"\\.csv\", \"\", name)\n",
    "        print name\n",
    "        print ratio24.loc['X'][name]\n",
    "        # rename index and del SN\n",
    "        df.index = [re.sub('_+', '', x) for x in df['SN']]\n",
    "        del df['SN']"
   ]
  },
  {
   "cell_type": "code",
   "execution_count": null,
   "metadata": {
    "collapsed": false
   },
   "outputs": [],
   "source": [
    "dfx = df.iloc[:,0:32]"
   ]
  },
  {
   "cell_type": "code",
   "execution_count": null,
   "metadata": {
    "collapsed": true
   },
   "outputs": [],
   "source": [
    "dfy = df.iloc[:,32:64]"
   ]
  },
  {
   "cell_type": "code",
   "execution_count": null,
   "metadata": {
    "collapsed": false
   },
   "outputs": [],
   "source": [
    "dfx"
   ]
  },
  {
   "cell_type": "code",
   "execution_count": null,
   "metadata": {
    "collapsed": false
   },
   "outputs": [],
   "source": [
    "ratio24.loc['X']['MainBoard_Sim']"
   ]
  },
  {
   "cell_type": "code",
   "execution_count": null,
   "metadata": {
    "collapsed": false
   },
   "outputs": [],
   "source": [
    "pic1_size['UP']"
   ]
  },
  {
   "cell_type": "code",
   "execution_count": null,
   "metadata": {
    "collapsed": false
   },
   "outputs": [],
   "source": [
    "pic2_size['UP'] + (pic2_size['DOWN'] - pic2_size['UP']) * ratio24.loc['X']['MainBoard_Sim']"
   ]
  },
  {
   "cell_type": "code",
   "execution_count": null,
   "metadata": {
    "collapsed": false
   },
   "outputs": [],
   "source": [
    "pic1_size['UP'] + (pic1_size['DOWN'] - pic1_size['UP']) * ratio24.loc['X']['MainBoard_Sim']"
   ]
  },
  {
   "cell_type": "code",
   "execution_count": null,
   "metadata": {
    "collapsed": false
   },
   "outputs": [],
   "source": [
    "componentList = [x for x in ratio24.columns]"
   ]
  },
  {
   "cell_type": "code",
   "execution_count": null,
   "metadata": {
    "collapsed": false
   },
   "outputs": [],
   "source": [
    "ratio24"
   ]
  },
  {
   "cell_type": "code",
   "execution_count": null,
   "metadata": {
    "collapsed": false
   },
   "outputs": [],
   "source": [
    "pic1_size"
   ]
  },
  {
   "cell_type": "code",
   "execution_count": null,
   "metadata": {
    "collapsed": false
   },
   "outputs": [],
   "source": [
    "ratio24"
   ]
  },
  {
   "cell_type": "code",
   "execution_count": null,
   "metadata": {
    "collapsed": true
   },
   "outputs": [],
   "source": [
    "def get_width(component, picSizeDf):\n",
    "    '''get width according to the position of the specified component\n",
    "    \n",
    "    Note:\n",
    "    \n",
    "    Args:\n",
    "    \n",
    "    Return:\n",
    "    \n",
    "    '''\n",
    "    return picSizeDf['UP'] + (picSizeDf['DOWN'] - picSizeDf['UP']) * ratio24.loc['Y'][component]\n",
    "    "
   ]
  },
  {
   "cell_type": "code",
   "execution_count": null,
   "metadata": {
    "collapsed": true
   },
   "outputs": [],
   "source": [
    "def get_height(component, picSizeDf):\n",
    "    return picSizeDf['LEFT'] + (picSizeDf['RIGHT'] - picSizeDf['LEFT']) * ratio24.loc['X'][component]"
   ]
  },
  {
   "cell_type": "code",
   "execution_count": null,
   "metadata": {
    "collapsed": false
   },
   "outputs": [],
   "source": [
    "beforeHight = get_height(component=componentList[23], picSizeDf=pic1_size)"
   ]
  },
  {
   "cell_type": "code",
   "execution_count": null,
   "metadata": {
    "collapsed": true
   },
   "outputs": [],
   "source": [
    "afterHeight = get_height(component=componentList[23], picSizeDf=pic2_size)"
   ]
  },
  {
   "cell_type": "code",
   "execution_count": null,
   "metadata": {
    "collapsed": false
   },
   "outputs": [],
   "source": [
    "adjust = beforeHight / afterHeight"
   ]
  },
  {
   "cell_type": "code",
   "execution_count": null,
   "metadata": {
    "collapsed": true
   },
   "outputs": [],
   "source": [
    "for sn in dfx.index:\n",
    "    dfx.loc[sn] = dfx.loc[sn] * adjust[sn]"
   ]
  },
  {
   "cell_type": "code",
   "execution_count": null,
   "metadata": {
    "collapsed": false
   },
   "outputs": [],
   "source": [
    "componentList[0]"
   ]
  },
  {
   "cell_type": "code",
   "execution_count": null,
   "metadata": {
    "collapsed": false
   },
   "outputs": [],
   "source": [
    "get_width(componentList[10], pic1_size)"
   ]
  },
  {
   "cell_type": "code",
   "execution_count": null,
   "metadata": {
    "collapsed": true
   },
   "outputs": [],
   "source": [
    "get_width()"
   ]
  },
  {
   "cell_type": "code",
   "execution_count": null,
   "metadata": {
    "collapsed": true
   },
   "outputs": [],
   "source": [
    "def perspective_transform(path):\n",
    "    '''transform the value according to image deformation\n",
    "    \n",
    "    Notes: \n",
    "    \n",
    "    Args:\n",
    "    \n",
    "    Return:\n",
    "    \n",
    "    '''\n",
    "    dfList = surlib.csvToDf(path)\n",
    "    \n",
    "    for item in dfList:\n",
    "        outputName = re.sub(\"after12\", \"adjust\", item[1])\n",
    "        name = item[1]\n",
    "        # Iterate through each file and process file with name start with 'after'\n",
    "        if name.startswith('after'):\n",
    "            df = item[0]\n",
    "            name = item[1]\n",
    "            name =  re.sub(\"after12_N66_L._\", \"\", name)\n",
    "            name =  re.sub(\"\\.csv\", \"\", name)\n",
    "            # print name\n",
    "            print ratio24.loc['X'][name]\n",
    "            # rename index and del SN\n",
    "            df.index = [re.sub('_+', '', x) for x in df['SN']]\n",
    "            del df['SN']\n",
    "\n",
    "            # get the width of the component\n",
    "            width_before = get_width(name, pic1_size)\n",
    "            width_after = get_width(name, pic2_size)\n",
    "\n",
    "            # get the height of the component\n",
    "            height_before = get_height(component=name, picSizeDf=pic1_size)\n",
    "            height_after = get_height(component=name, picSizeDf=pic2_size)\n",
    "            \n",
    "            dfx = df.iloc[:, 0:32]\n",
    "            dfy = df.iloc[:, 32:64]\n",
    "            dftheta = df.iloc[:, 64:96]\n",
    "            \n",
    "            \n",
    "            # iterate through each sn and update the value\n",
    "            for sn in df.index:\n",
    "                \n",
    "                #print 'before adjust: {}'.format(df.loc[sn]['Distance_X_LOGO_Battery_Left1'])\n",
    "                # beforeGet = dfx.loc[sn]['Distance_X_LOGO_5']\n",
    "                dfx.loc[sn] = dfx.loc[sn] * width_before[sn] / width_after[sn]\n",
    "                # afterGet = dfx.loc[sn]['Distance_X_LOGO_5']\n",
    "                #print 'width_before: {}'.format(width_before[sn])\n",
    "                #print 'width_after: {}'.format(width_after[sn])\n",
    "                #print 'after adjust: {}'.format(df.loc[sn]['Distance_X_LOGO_Battery_Left1'])\n",
    "                dfy.loc[sn] = dfy.loc[sn] * height_before[sn] / height_after[sn]\n",
    "            \n",
    "            \n",
    "            dfAdjust = pd.concat([dfx, dfy, dftheta], axis=1)\n",
    "            dfAdjust.to_csv('./data/100SN_CASE1/' + outputName)"
   ]
  },
  {
   "cell_type": "code",
   "execution_count": null,
   "metadata": {
    "collapsed": false
   },
   "outputs": [],
   "source": [
    "perspective_transform('./data/100SN_CASE1/')"
   ]
  },
  {
   "cell_type": "code",
   "execution_count": null,
   "metadata": {
    "collapsed": true
   },
   "outputs": [],
   "source": [
    "from surlib import "
   ]
  },
  {
   "cell_type": "code",
   "execution_count": null,
   "metadata": {
    "collapsed": true
   },
   "outputs": [],
   "source": [
    "dfBefore = pd.read_csv('./data/100SN_CASE1/before12_N66_LD_Battery_Left.csv', sep='\\t', index_col='SN')\n",
    "dfBefore.index = [re.sub('_+', '', x) for x in dfBefore.index]"
   ]
  },
  {
   "cell_type": "code",
   "execution_count": null,
   "metadata": {
    "collapsed": true
   },
   "outputs": [],
   "source": [
    "dfAfter = pd.read_csv('./data/100SN_CASE1/after12_N66_LD_Battery_Left.csv', sep='\\t', index_col='SN')\n",
    "dfAfter.index = [re.sub('_+', '', x) for x in dfAfter.index]"
   ]
  },
  {
   "cell_type": "code",
   "execution_count": null,
   "metadata": {
    "collapsed": false
   },
   "outputs": [],
   "source": [
    "dfAAfter = pd.read_csv('./data/100SN_CASE1/adjust_N66_LD_Battery_Left.csv')\n",
    "dfAAfter.index = dfAAfter.iloc[:,0]\n",
    "dfAAfter.index.name = 'SN'\n",
    "del dfAAfter[dfAAfter.columns[0]]"
   ]
  },
  {
   "cell_type": "code",
   "execution_count": null,
   "metadata": {
    "collapsed": false
   },
   "outputs": [],
   "source": [
    "dfBefore"
   ]
  },
  {
   "cell_type": "code",
   "execution_count": null,
   "metadata": {
    "collapsed": false
   },
   "outputs": [],
   "source": [
    "dfDiff2 = dfBefore.iloc[:,0:96] - dfAAfter.iloc[:,0:96]"
   ]
  },
  {
   "cell_type": "code",
   "execution_count": null,
   "metadata": {
    "collapsed": false
   },
   "outputs": [],
   "source": [
    "dfDiff1 = dfBefore.iloc[:,0:96] - dfAfter.iloc[:,0:96]"
   ]
  },
  {
   "cell_type": "code",
   "execution_count": null,
   "metadata": {
    "collapsed": false
   },
   "outputs": [],
   "source": [
    "test = (abs(dfDiff1 - dfDiff2) > 0.2).sum(axis=1)"
   ]
  },
  {
   "cell_type": "code",
   "execution_count": null,
   "metadata": {
    "collapsed": false
   },
   "outputs": [],
   "source": [
    "test[test > 30]"
   ]
  },
  {
   "cell_type": "code",
   "execution_count": null,
   "metadata": {
    "collapsed": false
   },
   "outputs": [],
   "source": [
    "df.index = [re.sub('_+', '', x) for x in df.index]"
   ]
  },
  {
   "cell_type": "code",
   "execution_count": null,
   "metadata": {
    "collapsed": false
   },
   "outputs": [],
   "source": [
    "df"
   ]
  },
  {
   "cell_type": "code",
   "execution_count": null,
   "metadata": {
    "collapsed": true
   },
   "outputs": [],
   "source": [
    "abnormalSN = pd.read_clipboard(header=None)"
   ]
  },
  {
   "cell_type": "code",
   "execution_count": null,
   "metadata": {
    "collapsed": false
   },
   "outputs": [],
   "source": [
    "abnormalSN[abnormalSN.columns[0]]"
   ]
  },
  {
   "cell_type": "code",
   "execution_count": null,
   "metadata": {
    "collapsed": false
   },
   "outputs": [],
   "source": [
    "abnormalSNList = [re.sub('_+', '', x) for x in abnormalSN[abnormalSN.columns[0]]]"
   ]
  },
  {
   "cell_type": "code",
   "execution_count": null,
   "metadata": {
    "collapsed": false
   },
   "outputs": [],
   "source": [
    "abnormalSNList"
   ]
  },
  {
   "cell_type": "code",
   "execution_count": null,
   "metadata": {
    "collapsed": false
   },
   "outputs": [],
   "source": [
    "'FLQS224TGRWM' in abnormalSNList"
   ]
  },
  {
   "cell_type": "code",
   "execution_count": null,
   "metadata": {
    "collapsed": false
   },
   "outputs": [],
   "source": [
    "dfDiff1.loc['FLQS3072GRWV'][0:32].mean()"
   ]
  },
  {
   "cell_type": "code",
   "execution_count": null,
   "metadata": {
    "collapsed": false
   },
   "outputs": [],
   "source": [
    "dfDiff2.loc['FLQS3072GRWV'][0:32].mean()"
   ]
  },
  {
   "cell_type": "code",
   "execution_count": null,
   "metadata": {
    "collapsed": false
   },
   "outputs": [],
   "source": [
    "for sn in abnormalSNList:\n",
    "    print sn\n",
    "    print dfDiff1.loc[sn][0:32].mean()\n",
    "    print dfDiff2.loc[sn][0:32].mean()"
   ]
  },
  {
   "cell_type": "code",
   "execution_count": null,
   "metadata": {
    "collapsed": false
   },
   "outputs": [],
   "source": [
    "dfDiff1.loc['FLQS3087GRWV'].mean()"
   ]
  },
  {
   "cell_type": "code",
   "execution_count": null,
   "metadata": {
    "collapsed": false
   },
   "outputs": [],
   "source": [
    "dfDiff2.loc['FLQS3087GRWV'].mean()"
   ]
  },
  {
   "cell_type": "code",
   "execution_count": null,
   "metadata": {
    "collapsed": false
   },
   "outputs": [],
   "source": [
    "dfDiff1.iloc[1, 0:32]"
   ]
  },
  {
   "cell_type": "code",
   "execution_count": null,
   "metadata": {
    "collapsed": false
   },
   "outputs": [],
   "source": [
    "componentList"
   ]
  },
  {
   "cell_type": "code",
   "execution_count": 3,
   "metadata": {
    "collapsed": false
   },
   "outputs": [
    {
     "name": "stdout",
     "output_type": "stream",
     "text": [
      "LD_Battery_Left\n",
      "LD_Battery_Up\n",
      "LD_Camera_LD\n",
      "LD_Camera_RU\n",
      "LD_Earphone_LD\n",
      "LD_Earphone_RU\n",
      "LD_Front_Camera_LD\n",
      "LD_Front_Camera_RU\n",
      "LD_MainBoard_Corner\n",
      "LD_MainBoard_LU\n",
      "LD_MainBoard_RU\n",
      "LD_NFC_Down\n",
      "LD_NFC_Up\n",
      "LU_Battery_Down\n",
      "LU_Battery_Right\n",
      "LU_Button_LD\n",
      "LU_Button_RU\n",
      "LU_MainBoard_LD\n",
      "LU_MainBoard_RD\n",
      "LU_MainBoard_Sim\n",
      "LU_Motor_LD\n",
      "LU_Motor_RU\n",
      "LU_Voice_LD\n",
      "LU_Voice_RU\n"
     ]
    }
   ],
   "source": [
    "import os\n",
    "componentList = []\n",
    "for fileName in os.listdir('./data/100SN_CASE1/'):\n",
    "    if fileName.startswith('adjust'):\n",
    "        fileName = fileName.replace('adjust_N66_', '')\n",
    "        fileName = fileName.replace('.csv', '')\n",
    "        print fileName\n",
    "        componentList.append(fileName)"
   ]
  },
  {
   "cell_type": "code",
   "execution_count": 4,
   "metadata": {
    "collapsed": false
   },
   "outputs": [
    {
     "data": {
      "text/plain": [
       "['LD_Battery_Left',\n",
       " 'LD_Battery_Up',\n",
       " 'LD_Camera_LD',\n",
       " 'LD_Camera_RU',\n",
       " 'LD_Earphone_LD',\n",
       " 'LD_Earphone_RU',\n",
       " 'LD_Front_Camera_LD',\n",
       " 'LD_Front_Camera_RU',\n",
       " 'LD_MainBoard_Corner',\n",
       " 'LD_MainBoard_LU',\n",
       " 'LD_MainBoard_RU',\n",
       " 'LD_NFC_Down',\n",
       " 'LD_NFC_Up',\n",
       " 'LU_Battery_Down',\n",
       " 'LU_Battery_Right',\n",
       " 'LU_Button_LD',\n",
       " 'LU_Button_RU',\n",
       " 'LU_MainBoard_LD',\n",
       " 'LU_MainBoard_RD',\n",
       " 'LU_MainBoard_Sim',\n",
       " 'LU_Motor_LD',\n",
       " 'LU_Motor_RU',\n",
       " 'LU_Voice_LD',\n",
       " 'LU_Voice_RU']"
      ]
     },
     "execution_count": 4,
     "metadata": {},
     "output_type": "execute_result"
    }
   ],
   "source": [
    "componentList"
   ]
  },
  {
   "cell_type": "code",
   "execution_count": 5,
   "metadata": {
    "collapsed": false
   },
   "outputs": [
    {
     "data": {
      "text/plain": [
       "['LD_Battery_Left',\n",
       " 'LD_Battery_Up',\n",
       " 'LD_Camera_LD',\n",
       " 'LD_Camera_RU',\n",
       " 'LD_Earphone_LD']"
      ]
     },
     "execution_count": 5,
     "metadata": {},
     "output_type": "execute_result"
    }
   ],
   "source": [
    "componentList[0:5]"
   ]
  },
  {
   "cell_type": "code",
   "execution_count": 11,
   "metadata": {
    "collapsed": false
   },
   "outputs": [],
   "source": [
    "import pandas as pd\n",
    "import numpy as np\n",
    "import re"
   ]
  },
  {
   "cell_type": "code",
   "execution_count": 24,
   "metadata": {
    "collapsed": false
   },
   "outputs": [],
   "source": [
    "def generate_df_for_boxplot():\n",
    "    componentDict = dict()\n",
    "    # for component in componentList:\n",
    "    for component in componentList[0:3]:\n",
    "        snDfDict = dict()\n",
    "        # laod necessary dfs\n",
    "        beforeDf = pd.read_csv('./data/100SN_CASE1/before12_N66_' + component + '.csv', sep='\\t', index_col='SN').iloc[:,0:96]\n",
    "        beforeDf.index = [re.sub('_+', '', x) for x in beforeDf.index]\n",
    "        afterDf = pd.read_csv('./data/100SN_CASE1/after12_N66_' + component + '.csv', sep='\\t', index_col='SN').iloc[:,0:96]\n",
    "        afterDf.index = [re.sub('_+', '', x) for x in afterDf.index]\n",
    "        adjustAfterDf = pd.read_csv('./data/100SN_CASE1/adjust_N66_' + component + '.csv')\n",
    "        adjustAfterDf.index = adjustAfterDf[adjustAfterDf.columns[0]]\n",
    "        adjustAfterDf.index.name = 'SN'\n",
    "        del adjustAfterDf[adjustAfterDf.columns[0]]\n",
    "\n",
    "        diffOriDf = afterDf - beforeDf\n",
    "        diffAdjustDf = adjustAfterDf - beforeDf\n",
    "\n",
    "        # for sn in diffOriDf.index:\n",
    "        for sn in diffOriDf.index[0:5]:\n",
    "            \n",
    "            diffOriDfStand = diffOriDf.loc[[sn]].T.iloc[0:64, :]\n",
    "            diffOriDfStand.rename(columns={sn:'Value'}, inplace=True)\n",
    "            diffOriDfStand['Adjust'] = False\n",
    "            diffOriDfStand['Metric'] = 'initial'\n",
    "            diffOriDfStand['Metric'].iloc[0: 32] = 'x'\n",
    "            diffOriDfStand['Metric'].iloc[32: 64] = 'y'\n",
    "            \n",
    "            diffAdjustDfStand = diffAdjustDf.loc[[sn]].T.iloc[0:64, :]\n",
    "            diffAdjustDfStand.rename(columns={sn:'Value'}, inplace=True)\n",
    "            diffAdjustDfStand['Adjust'] = True\n",
    "            diffAdjustDfStand['Metric'] = 'initial'\n",
    "            diffAdjustDfStand['Metric'].iloc[0: 32] = 'x'\n",
    "            diffAdjustDfStand['Metric'].iloc[32: 64] = 'y'\n",
    "            \n",
    "            snStandDf = pd.concat([diffOriDfStand, diffAdjustDfStand])\n",
    "\n",
    "            snStandDf['Component'] = component\n",
    "\n",
    "            snDfDict[sn] = snStandDf\n",
    "        \n",
    "        print component\n",
    "        componentDict[component] = snDfDict\n",
    "        print snDfDict['FLQS29JFGRX5']['Component'].value_counts()\n",
    "        \n",
    "    return componentDict"
   ]
  },
  {
   "cell_type": "code",
   "execution_count": 25,
   "metadata": {
    "collapsed": false
   },
   "outputs": [
    {
     "name": "stdout",
     "output_type": "stream",
     "text": [
      "LD_Battery_Left\n",
      "LD_Battery_Left    128\n",
      "Name: Component, dtype: int64\n",
      "LD_Battery_Up\n",
      "LD_Battery_Up    128\n",
      "Name: Component, dtype: int64\n",
      "LD_Camera_LD\n",
      "LD_Camera_LD    128\n",
      "Name: Component, dtype: int64\n"
     ]
    }
   ],
   "source": [
    "dictTest = generate_df_for_boxplot()"
   ]
  },
  {
   "cell_type": "code",
   "execution_count": 19,
   "metadata": {
    "collapsed": false
   },
   "outputs": [
    {
     "data": {
      "text/plain": [
       "{'FLQS29JFGRX5':                                Value Adjust Metric     Component\n",
       " Distance_X_LOGO_Camera_LD1 -0.059000  False      x  LD_Camera_LD\n",
       " Distance_X_LOGO_Camera_LD2 -0.064000  False      x  LD_Camera_LD\n",
       " Distance_X_LOGO_3          -0.054000  False      x  LD_Camera_LD\n",
       " Distance_X_LOGO_4          -0.068000  False      x  LD_Camera_LD\n",
       " Distance_X_LOGO_5          -0.072000  False      x  LD_Camera_LD\n",
       " Distance_X_LOGO_6          -0.072000  False      x  LD_Camera_LD\n",
       " Distance_X_LOGO_7          -0.065000  False      x  LD_Camera_LD\n",
       " Distance_X_LOGO_8          -0.063000  False      x  LD_Camera_LD\n",
       " Distance_X_LOGO_9          -0.068000  False      x  LD_Camera_LD\n",
       " Distance_X_LOGO_10         -0.036000  False      x  LD_Camera_LD\n",
       " Distance_X_LOGO_11         -0.064000  False      x  LD_Camera_LD\n",
       " Distance_X_LOGO_12         -0.065000  False      x  LD_Camera_LD\n",
       " Distance_X_LOGO_13         -0.062000  False      x  LD_Camera_LD\n",
       " Distance_X_LOGO_14         -0.069000  False      x  LD_Camera_LD\n",
       " Distance_X_LOGO_15         -0.068000  False      x  LD_Camera_LD\n",
       " Distance_X_LOGO_16         -0.062000  False      x  LD_Camera_LD\n",
       " Distance_X_LOGO_17         -0.068000  False      x  LD_Camera_LD\n",
       " Distance_X_LOGO_18         -0.068000  False      x  LD_Camera_LD\n",
       " Distance_X_LOGO_19         -0.062000  False      x  LD_Camera_LD\n",
       " Distance_X_LOGO_20         -0.066000  False      x  LD_Camera_LD\n",
       " Distance_X_LOGO_21         -0.064000  False      x  LD_Camera_LD\n",
       " Distance_X_LOGO_22         -0.062000  False      x  LD_Camera_LD\n",
       " Distance_X_LOGO_23         -0.064000  False      x  LD_Camera_LD\n",
       " Distance_X_LOGO_24         -0.100000  False      x  LD_Camera_LD\n",
       " Distance_X_LOGO_25         -0.063000  False      x  LD_Camera_LD\n",
       " Distance_X_LOGO_26         -0.059000  False      x  LD_Camera_LD\n",
       " Distance_X_LOGO_27         -0.059000  False      x  LD_Camera_LD\n",
       " Distance_X_LOGO_28         -0.064000  False      x  LD_Camera_LD\n",
       " Distance_X_LOGO_29         -0.066000  False      x  LD_Camera_LD\n",
       " Distance_X_LOGO_30         -0.062000  False      x  LD_Camera_LD\n",
       " ...                              ...    ...    ...           ...\n",
       " Distance_Y_LOGO_3          -0.066402   True      y  LD_Camera_LD\n",
       " Distance_Y_LOGO_4          -0.001394   True      y  LD_Camera_LD\n",
       " Distance_Y_LOGO_5          -0.002397   True      y  LD_Camera_LD\n",
       " Distance_Y_LOGO_6          -0.005394   True      y  LD_Camera_LD\n",
       " Distance_Y_LOGO_7          -0.037394   True      y  LD_Camera_LD\n",
       " Distance_Y_LOGO_8          -0.036397   True      y  LD_Camera_LD\n",
       " Distance_Y_LOGO_9          -0.006389   True      y  LD_Camera_LD\n",
       " Distance_Y_LOGO_10         -0.015392   True      y  LD_Camera_LD\n",
       " Distance_Y_LOGO_11         -0.036391   True      y  LD_Camera_LD\n",
       " Distance_Y_LOGO_12         -0.037386   True      y  LD_Camera_LD\n",
       " Distance_Y_LOGO_13         -0.035391   True      y  LD_Camera_LD\n",
       " Distance_Y_LOGO_14         -0.004391   True      y  LD_Camera_LD\n",
       " Distance_Y_LOGO_15         -0.006389   True      y  LD_Camera_LD\n",
       " Distance_Y_LOGO_16         -0.035391   True      y  LD_Camera_LD\n",
       " Distance_Y_LOGO_17         -0.006389   True      y  LD_Camera_LD\n",
       " Distance_Y_LOGO_18         -0.006389   True      y  LD_Camera_LD\n",
       " Distance_Y_LOGO_19         -0.036391   True      y  LD_Camera_LD\n",
       " Distance_Y_LOGO_20         -0.005394   True      y  LD_Camera_LD\n",
       " Distance_Y_LOGO_21         -0.039389   True      y  LD_Camera_LD\n",
       " Distance_Y_LOGO_22         -0.005386   True      y  LD_Camera_LD\n",
       " Distance_Y_LOGO_23         -0.036391   True      y  LD_Camera_LD\n",
       " Distance_Y_LOGO_24         -0.034383   True      y  LD_Camera_LD\n",
       " Distance_Y_LOGO_25         -0.036391   True      y  LD_Camera_LD\n",
       " Distance_Y_LOGO_26         -0.037388   True      y  LD_Camera_LD\n",
       " Distance_Y_LOGO_27         -0.031399   True      y  LD_Camera_LD\n",
       " Distance_Y_LOGO_28         -0.036391   True      y  LD_Camera_LD\n",
       " Distance_Y_LOGO_29          0.000609   True      y  LD_Camera_LD\n",
       " Distance_Y_LOGO_30         -0.035390   True      y  LD_Camera_LD\n",
       " Distance_Y_LOGO_31         -0.035391   True      y  LD_Camera_LD\n",
       " Distance_Y_LOGO_32         -0.035390   True      y  LD_Camera_LD\n",
       " \n",
       " [128 rows x 4 columns],\n",
       " 'FLQS30C7GRWV':                                Value Adjust Metric     Component\n",
       " Distance_X_LOGO_Camera_LD1  0.187000  False      x  LD_Camera_LD\n",
       " Distance_X_LOGO_Camera_LD2  0.145000  False      x  LD_Camera_LD\n",
       " Distance_X_LOGO_3           0.187000  False      x  LD_Camera_LD\n",
       " Distance_X_LOGO_4           0.180000  False      x  LD_Camera_LD\n",
       " Distance_X_LOGO_5           0.191000  False      x  LD_Camera_LD\n",
       " Distance_X_LOGO_6           0.177000  False      x  LD_Camera_LD\n",
       " Distance_X_LOGO_7           0.143000  False      x  LD_Camera_LD\n",
       " Distance_X_LOGO_8           0.188000  False      x  LD_Camera_LD\n",
       " Distance_X_LOGO_9           0.143000  False      x  LD_Camera_LD\n",
       " Distance_X_LOGO_10          0.179000  False      x  LD_Camera_LD\n",
       " Distance_X_LOGO_11          0.149000  False      x  LD_Camera_LD\n",
       " Distance_X_LOGO_12          0.179000  False      x  LD_Camera_LD\n",
       " Distance_X_LOGO_13          0.143000  False      x  LD_Camera_LD\n",
       " Distance_X_LOGO_14          0.180000  False      x  LD_Camera_LD\n",
       " Distance_X_LOGO_15          0.143000  False      x  LD_Camera_LD\n",
       " Distance_X_LOGO_16          0.144000  False      x  LD_Camera_LD\n",
       " Distance_X_LOGO_17          0.143000  False      x  LD_Camera_LD\n",
       " Distance_X_LOGO_18          0.143000  False      x  LD_Camera_LD\n",
       " Distance_X_LOGO_19          0.145000  False      x  LD_Camera_LD\n",
       " Distance_X_LOGO_20          0.141000  False      x  LD_Camera_LD\n",
       " Distance_X_LOGO_21          0.181000  False      x  LD_Camera_LD\n",
       " Distance_X_LOGO_22          0.145000  False      x  LD_Camera_LD\n",
       " Distance_X_LOGO_23          0.149000  False      x  LD_Camera_LD\n",
       " Distance_X_LOGO_24          0.146000  False      x  LD_Camera_LD\n",
       " Distance_X_LOGO_25          0.180000  False      x  LD_Camera_LD\n",
       " Distance_X_LOGO_26          0.184000  False      x  LD_Camera_LD\n",
       " Distance_X_LOGO_27          0.179000  False      x  LD_Camera_LD\n",
       " Distance_X_LOGO_28          0.149000  False      x  LD_Camera_LD\n",
       " Distance_X_LOGO_29          0.179000  False      x  LD_Camera_LD\n",
       " Distance_X_LOGO_30          0.191000  False      x  LD_Camera_LD\n",
       " ...                              ...    ...    ...           ...\n",
       " Distance_Y_LOGO_3           0.019827   True      y  LD_Camera_LD\n",
       " Distance_Y_LOGO_4           0.050829   True      y  LD_Camera_LD\n",
       " Distance_Y_LOGO_5           0.019827   True      y  LD_Camera_LD\n",
       " Distance_Y_LOGO_6           0.053829   True      y  LD_Camera_LD\n",
       " Distance_Y_LOGO_7           0.057830   True      y  LD_Camera_LD\n",
       " Distance_Y_LOGO_8           0.020828   True      y  LD_Camera_LD\n",
       " Distance_Y_LOGO_9           0.055832   True      y  LD_Camera_LD\n",
       " Distance_Y_LOGO_10          0.052830   True      y  LD_Camera_LD\n",
       " Distance_Y_LOGO_11          0.028832   True      y  LD_Camera_LD\n",
       " Distance_Y_LOGO_12          0.051833   True      y  LD_Camera_LD\n",
       " Distance_Y_LOGO_13          0.053832   True      y  LD_Camera_LD\n",
       " Distance_Y_LOGO_14          0.052830   True      y  LD_Camera_LD\n",
       " Distance_Y_LOGO_15          0.055832   True      y  LD_Camera_LD\n",
       " Distance_Y_LOGO_16          0.054832   True      y  LD_Camera_LD\n",
       " Distance_Y_LOGO_17          0.055832   True      y  LD_Camera_LD\n",
       " Distance_Y_LOGO_18          0.055832   True      y  LD_Camera_LD\n",
       " Distance_Y_LOGO_19          0.026832   True      y  LD_Camera_LD\n",
       " Distance_Y_LOGO_20          0.054829   True      y  LD_Camera_LD\n",
       " Distance_Y_LOGO_21          0.053833   True      y  LD_Camera_LD\n",
       " Distance_Y_LOGO_22          0.023833   True      y  LD_Camera_LD\n",
       " Distance_Y_LOGO_23          0.028832   True      y  LD_Camera_LD\n",
       " Distance_Y_LOGO_24          0.052835   True      y  LD_Camera_LD\n",
       " Distance_Y_LOGO_25          0.049831   True      y  LD_Camera_LD\n",
       " Distance_Y_LOGO_26          0.050833   True      y  LD_Camera_LD\n",
       " Distance_Y_LOGO_27          0.048828   True      y  LD_Camera_LD\n",
       " Distance_Y_LOGO_28          0.028832   True      y  LD_Camera_LD\n",
       " Distance_Y_LOGO_29          0.049830   True      y  LD_Camera_LD\n",
       " Distance_Y_LOGO_30          0.023831   True      y  LD_Camera_LD\n",
       " Distance_Y_LOGO_31          0.084832   True      y  LD_Camera_LD\n",
       " Distance_Y_LOGO_32          0.023831   True      y  LD_Camera_LD\n",
       " \n",
       " [128 rows x 4 columns],\n",
       " 'FLQS30CWGRWV':                                Value Adjust Metric     Component\n",
       " Distance_X_LOGO_Camera_LD1  0.004000  False      x  LD_Camera_LD\n",
       " Distance_X_LOGO_Camera_LD2  0.004000  False      x  LD_Camera_LD\n",
       " Distance_X_LOGO_3           0.008000  False      x  LD_Camera_LD\n",
       " Distance_X_LOGO_4           0.002000  False      x  LD_Camera_LD\n",
       " Distance_X_LOGO_5           0.013000  False      x  LD_Camera_LD\n",
       " Distance_X_LOGO_6          -0.008000  False      x  LD_Camera_LD\n",
       " Distance_X_LOGO_7          -0.031000  False      x  LD_Camera_LD\n",
       " Distance_X_LOGO_8           0.007000  False      x  LD_Camera_LD\n",
       " Distance_X_LOGO_9           0.006000  False      x  LD_Camera_LD\n",
       " Distance_X_LOGO_10          0.000000  False      x  LD_Camera_LD\n",
       " Distance_X_LOGO_11          0.003000  False      x  LD_Camera_LD\n",
       " Distance_X_LOGO_12          0.001000  False      x  LD_Camera_LD\n",
       " Distance_X_LOGO_13          0.004000  False      x  LD_Camera_LD\n",
       " Distance_X_LOGO_14          0.009000  False      x  LD_Camera_LD\n",
       " Distance_X_LOGO_15          0.006000  False      x  LD_Camera_LD\n",
       " Distance_X_LOGO_16          0.005000  False      x  LD_Camera_LD\n",
       " Distance_X_LOGO_17          0.006000  False      x  LD_Camera_LD\n",
       " Distance_X_LOGO_18          0.006000  False      x  LD_Camera_LD\n",
       " Distance_X_LOGO_19          0.005000  False      x  LD_Camera_LD\n",
       " Distance_X_LOGO_20          0.007000  False      x  LD_Camera_LD\n",
       " Distance_X_LOGO_21          0.010000  False      x  LD_Camera_LD\n",
       " Distance_X_LOGO_22          0.005000  False      x  LD_Camera_LD\n",
       " Distance_X_LOGO_23          0.003000  False      x  LD_Camera_LD\n",
       " Distance_X_LOGO_24         -0.032000  False      x  LD_Camera_LD\n",
       " Distance_X_LOGO_25          0.003000  False      x  LD_Camera_LD\n",
       " Distance_X_LOGO_26          0.005000  False      x  LD_Camera_LD\n",
       " Distance_X_LOGO_27          0.004000  False      x  LD_Camera_LD\n",
       " Distance_X_LOGO_28          0.003000  False      x  LD_Camera_LD\n",
       " Distance_X_LOGO_29          0.002000  False      x  LD_Camera_LD\n",
       " Distance_X_LOGO_30          0.011000  False      x  LD_Camera_LD\n",
       " ...                              ...    ...    ...           ...\n",
       " Distance_Y_LOGO_3          -0.006210   True      y  LD_Camera_LD\n",
       " Distance_Y_LOGO_4           0.033813   True      y  LD_Camera_LD\n",
       " Distance_Y_LOGO_5          -0.003210   True      y  LD_Camera_LD\n",
       " Distance_Y_LOGO_6           0.031811   True      y  LD_Camera_LD\n",
       " Distance_Y_LOGO_7          -0.000180   True      y  LD_Camera_LD\n",
       " Distance_Y_LOGO_8          -0.006200   True      y  LD_Camera_LD\n",
       " Distance_Y_LOGO_9          -0.047168   True      y  LD_Camera_LD\n",
       " Distance_Y_LOGO_10          0.027820   True      y  LD_Camera_LD\n",
       " Distance_Y_LOGO_11          0.028830   True      y  LD_Camera_LD\n",
       " Distance_Y_LOGO_12          0.029842   True      y  LD_Camera_LD\n",
       " Distance_Y_LOGO_13          0.031832   True      y  LD_Camera_LD\n",
       " Distance_Y_LOGO_14          0.031822   True      y  LD_Camera_LD\n",
       " Distance_Y_LOGO_15         -0.047168   True      y  LD_Camera_LD\n",
       " Distance_Y_LOGO_16          0.068844   True      y  LD_Camera_LD\n",
       " Distance_Y_LOGO_17         -0.047168   True      y  LD_Camera_LD\n",
       " Distance_Y_LOGO_18         -0.047168   True      y  LD_Camera_LD\n",
       " Distance_Y_LOGO_19          0.029832   True      y  LD_Camera_LD\n",
       " Distance_Y_LOGO_20         -0.000198   True      y  LD_Camera_LD\n",
       " Distance_Y_LOGO_21          0.025839   True      y  LD_Camera_LD\n",
       " Distance_Y_LOGO_22          0.028841   True      y  LD_Camera_LD\n",
       " Distance_Y_LOGO_23          0.028830   True      y  LD_Camera_LD\n",
       " Distance_Y_LOGO_24          0.003853   True      y  LD_Camera_LD\n",
       " Distance_Y_LOGO_25          0.031831   True      y  LD_Camera_LD\n",
       " Distance_Y_LOGO_26         -0.050157   True      y  LD_Camera_LD\n",
       " Distance_Y_LOGO_27         -0.010199   True      y  LD_Camera_LD\n",
       " Distance_Y_LOGO_28          0.028830   True      y  LD_Camera_LD\n",
       " Distance_Y_LOGO_29          0.077836   True      y  LD_Camera_LD\n",
       " Distance_Y_LOGO_30         -0.004172   True      y  LD_Camera_LD\n",
       " Distance_Y_LOGO_31          0.000834   True      y  LD_Camera_LD\n",
       " Distance_Y_LOGO_32         -0.004172   True      y  LD_Camera_LD\n",
       " \n",
       " [128 rows x 4 columns],\n",
       " 'FLQS30KBGRWV':                                Value Adjust Metric     Component\n",
       " Distance_X_LOGO_Camera_LD1 -0.022000  False      x  LD_Camera_LD\n",
       " Distance_X_LOGO_Camera_LD2  0.021000  False      x  LD_Camera_LD\n",
       " Distance_X_LOGO_3           0.058000  False      x  LD_Camera_LD\n",
       " Distance_X_LOGO_4           0.059000  False      x  LD_Camera_LD\n",
       " Distance_X_LOGO_5           0.057000  False      x  LD_Camera_LD\n",
       " Distance_X_LOGO_6           0.097000  False      x  LD_Camera_LD\n",
       " Distance_X_LOGO_7           0.022000  False      x  LD_Camera_LD\n",
       " Distance_X_LOGO_8           0.021000  False      x  LD_Camera_LD\n",
       " Distance_X_LOGO_9           0.056000  False      x  LD_Camera_LD\n",
       " Distance_X_LOGO_10          0.060000  False      x  LD_Camera_LD\n",
       " Distance_X_LOGO_11          0.062000  False      x  LD_Camera_LD\n",
       " Distance_X_LOGO_12          0.020000  False      x  LD_Camera_LD\n",
       " Distance_X_LOGO_13          0.060000  False      x  LD_Camera_LD\n",
       " Distance_X_LOGO_14          0.022000  False      x  LD_Camera_LD\n",
       " Distance_X_LOGO_15          0.056000  False      x  LD_Camera_LD\n",
       " Distance_X_LOGO_16          0.064000  False      x  LD_Camera_LD\n",
       " Distance_X_LOGO_17          0.056000  False      x  LD_Camera_LD\n",
       " Distance_X_LOGO_18          0.056000  False      x  LD_Camera_LD\n",
       " Distance_X_LOGO_19          0.063000  False      x  LD_Camera_LD\n",
       " Distance_X_LOGO_20         -0.015000  False      x  LD_Camera_LD\n",
       " Distance_X_LOGO_21          0.023000  False      x  LD_Camera_LD\n",
       " Distance_X_LOGO_22          0.068000  False      x  LD_Camera_LD\n",
       " Distance_X_LOGO_23          0.062000  False      x  LD_Camera_LD\n",
       " Distance_X_LOGO_24          0.060000  False      x  LD_Camera_LD\n",
       " Distance_X_LOGO_25          0.054000  False      x  LD_Camera_LD\n",
       " Distance_X_LOGO_26          0.022000  False      x  LD_Camera_LD\n",
       " Distance_X_LOGO_27          0.008000  False      x  LD_Camera_LD\n",
       " Distance_X_LOGO_28          0.062000  False      x  LD_Camera_LD\n",
       " Distance_X_LOGO_29          0.023000  False      x  LD_Camera_LD\n",
       " Distance_X_LOGO_30          0.023000  False      x  LD_Camera_LD\n",
       " ...                              ...    ...    ...           ...\n",
       " Distance_Y_LOGO_3           0.019368   True      y  LD_Camera_LD\n",
       " Distance_Y_LOGO_4          -0.053635   True      y  LD_Camera_LD\n",
       " Distance_Y_LOGO_5          -0.014634   True      y  LD_Camera_LD\n",
       " Distance_Y_LOGO_6           0.030363   True      y  LD_Camera_LD\n",
       " Distance_Y_LOGO_7          -0.010636   True      y  LD_Camera_LD\n",
       " Distance_Y_LOGO_8          -0.011634   True      y  LD_Camera_LD\n",
       " Distance_Y_LOGO_9           0.017362   True      y  LD_Camera_LD\n",
       " Distance_Y_LOGO_10         -0.013636   True      y  LD_Camera_LD\n",
       " Distance_Y_LOGO_11         -0.014638   True      y  LD_Camera_LD\n",
       " Distance_Y_LOGO_12         -0.009639   True      y  LD_Camera_LD\n",
       " Distance_Y_LOGO_13          0.020362   True      y  LD_Camera_LD\n",
       " Distance_Y_LOGO_14         -0.009637   True      y  LD_Camera_LD\n",
       " Distance_Y_LOGO_15          0.017362   True      y  LD_Camera_LD\n",
       " Distance_Y_LOGO_16          0.015362   True      y  LD_Camera_LD\n",
       " Distance_Y_LOGO_17          0.017362   True      y  LD_Camera_LD\n",
       " Distance_Y_LOGO_18          0.017362   True      y  LD_Camera_LD\n",
       " Distance_Y_LOGO_19          0.017362   True      y  LD_Camera_LD\n",
       " Distance_Y_LOGO_20         -0.030634   True      y  LD_Camera_LD\n",
       " Distance_Y_LOGO_21         -0.011639   True      y  LD_Camera_LD\n",
       " Distance_Y_LOGO_22         -0.053638   True      y  LD_Camera_LD\n",
       " Distance_Y_LOGO_23         -0.014638   True      y  LD_Camera_LD\n",
       " Distance_Y_LOGO_24          0.023358   True      y  LD_Camera_LD\n",
       " Distance_Y_LOGO_25          0.019362   True      y  LD_Camera_LD\n",
       " Distance_Y_LOGO_26         -0.007640   True      y  LD_Camera_LD\n",
       " Distance_Y_LOGO_27          0.034366   True      y  LD_Camera_LD\n",
       " Distance_Y_LOGO_28         -0.014638   True      y  LD_Camera_LD\n",
       " Distance_Y_LOGO_29          0.035362   True      y  LD_Camera_LD\n",
       " Distance_Y_LOGO_30         -0.010637   True      y  LD_Camera_LD\n",
       " Distance_Y_LOGO_31         -0.012638   True      y  LD_Camera_LD\n",
       " Distance_Y_LOGO_32         -0.010637   True      y  LD_Camera_LD\n",
       " \n",
       " [128 rows x 4 columns],\n",
       " 'FLQS30KVGRWV':                                Value Adjust Metric     Component\n",
       " Distance_X_LOGO_Camera_LD1  0.257000  False      x  LD_Camera_LD\n",
       " Distance_X_LOGO_Camera_LD2  0.255000  False      x  LD_Camera_LD\n",
       " Distance_X_LOGO_3           0.264000  False      x  LD_Camera_LD\n",
       " Distance_X_LOGO_4           0.255000  False      x  LD_Camera_LD\n",
       " Distance_X_LOGO_5           0.256000  False      x  LD_Camera_LD\n",
       " Distance_X_LOGO_6           0.255000  False      x  LD_Camera_LD\n",
       " Distance_X_LOGO_7           0.267000  False      x  LD_Camera_LD\n",
       " Distance_X_LOGO_8           0.257000  False      x  LD_Camera_LD\n",
       " Distance_X_LOGO_9           0.257000  False      x  LD_Camera_LD\n",
       " Distance_X_LOGO_10          0.257000  False      x  LD_Camera_LD\n",
       " Distance_X_LOGO_11          0.256000  False      x  LD_Camera_LD\n",
       " Distance_X_LOGO_12          0.255000  False      x  LD_Camera_LD\n",
       " Distance_X_LOGO_13          0.256000  False      x  LD_Camera_LD\n",
       " Distance_X_LOGO_14          0.246000  False      x  LD_Camera_LD\n",
       " Distance_X_LOGO_15          0.257000  False      x  LD_Camera_LD\n",
       " Distance_X_LOGO_16          0.258000  False      x  LD_Camera_LD\n",
       " Distance_X_LOGO_17          0.257000  False      x  LD_Camera_LD\n",
       " Distance_X_LOGO_18          0.257000  False      x  LD_Camera_LD\n",
       " Distance_X_LOGO_19          0.255000  False      x  LD_Camera_LD\n",
       " Distance_X_LOGO_20          0.257000  False      x  LD_Camera_LD\n",
       " Distance_X_LOGO_21          0.257000  False      x  LD_Camera_LD\n",
       " Distance_X_LOGO_22          0.255000  False      x  LD_Camera_LD\n",
       " Distance_X_LOGO_23          0.256000  False      x  LD_Camera_LD\n",
       " Distance_X_LOGO_24          0.257000  False      x  LD_Camera_LD\n",
       " Distance_X_LOGO_25          0.249000  False      x  LD_Camera_LD\n",
       " Distance_X_LOGO_26          0.256000  False      x  LD_Camera_LD\n",
       " Distance_X_LOGO_27          0.263000  False      x  LD_Camera_LD\n",
       " Distance_X_LOGO_28          0.256000  False      x  LD_Camera_LD\n",
       " Distance_X_LOGO_29          0.255000  False      x  LD_Camera_LD\n",
       " Distance_X_LOGO_30          0.257000  False      x  LD_Camera_LD\n",
       " ...                              ...    ...    ...           ...\n",
       " Distance_Y_LOGO_3           0.105011   True      y  LD_Camera_LD\n",
       " Distance_Y_LOGO_4           0.164058   True      y  LD_Camera_LD\n",
       " Distance_Y_LOGO_5           0.134039   True      y  LD_Camera_LD\n",
       " Distance_Y_LOGO_6           0.134054   True      y  LD_Camera_LD\n",
       " Distance_Y_LOGO_7           0.108058   True      y  LD_Camera_LD\n",
       " Distance_Y_LOGO_8           0.135039   True      y  LD_Camera_LD\n",
       " Distance_Y_LOGO_9           0.136087   True      y  LD_Camera_LD\n",
       " Distance_Y_LOGO_10          0.135070   True      y  LD_Camera_LD\n",
       " Distance_Y_LOGO_11          0.132073   True      y  LD_Camera_LD\n",
       " Distance_Y_LOGO_12          0.135102   True      y  LD_Camera_LD\n",
       " Distance_Y_LOGO_13          0.135087   True      y  LD_Camera_LD\n",
       " Distance_Y_LOGO_14          0.163072   True      y  LD_Camera_LD\n",
       " Distance_Y_LOGO_15          0.136087   True      y  LD_Camera_LD\n",
       " Distance_Y_LOGO_16          0.133076   True      y  LD_Camera_LD\n",
       " Distance_Y_LOGO_17          0.136087   True      y  LD_Camera_LD\n",
       " Distance_Y_LOGO_18          0.136087   True      y  LD_Camera_LD\n",
       " Distance_Y_LOGO_19          0.161087   True      y  LD_Camera_LD\n",
       " Distance_Y_LOGO_20          0.133056   True      y  LD_Camera_LD\n",
       " Distance_Y_LOGO_21          0.135099   True      y  LD_Camera_LD\n",
       " Distance_Y_LOGO_22          0.135101   True      y  LD_Camera_LD\n",
       " Distance_Y_LOGO_23          0.132073   True      y  LD_Camera_LD\n",
       " Distance_Y_LOGO_24          0.135130   True      y  LD_Camera_LD\n",
       " Distance_Y_LOGO_25          0.164086   True      y  LD_Camera_LD\n",
       " Distance_Y_LOGO_26          0.133091   True      y  LD_Camera_LD\n",
       " Distance_Y_LOGO_27          0.098027   True      y  LD_Camera_LD\n",
       " Distance_Y_LOGO_28          0.132073   True      y  LD_Camera_LD\n",
       " Distance_Y_LOGO_29          0.135075   True      y  LD_Camera_LD\n",
       " Distance_Y_LOGO_30          0.135083   True      y  LD_Camera_LD\n",
       " Distance_Y_LOGO_31          0.135074   True      y  LD_Camera_LD\n",
       " Distance_Y_LOGO_32          0.135083   True      y  LD_Camera_LD\n",
       " \n",
       " [128 rows x 4 columns]}"
      ]
     },
     "execution_count": 19,
     "metadata": {},
     "output_type": "execute_result"
    }
   ],
   "source": [
    "dictTest['LD_Battery_Up']"
   ]
  },
  {
   "cell_type": "code",
   "execution_count": null,
   "metadata": {
    "collapsed": false
   },
   "outputs": [],
   "source": [
    "componentDict['LD_Battery_Left']"
   ]
  },
  {
   "cell_type": "code",
   "execution_count": null,
   "metadata": {
    "collapsed": false
   },
   "outputs": [],
   "source": [
    "com"
   ]
  },
  {
   "cell_type": "code",
   "execution_count": null,
   "metadata": {
    "collapsed": false
   },
   "outputs": [],
   "source": [
    "componentList"
   ]
  },
  {
   "cell_type": "code",
   "execution_count": null,
   "metadata": {
    "collapsed": false
   },
   "outputs": [],
   "source": [
    "componentDict['LU_MainBoard_RD']"
   ]
  },
  {
   "cell_type": "code",
   "execution_count": null,
   "metadata": {
    "collapsed": true
   },
   "outputs": [],
   "source": [
    "def plot_adjust_compare_blox(allDict, SN):\n",
    "    '''\n",
    "    '''\n",
    "    dfList = []\n",
    "    for component in componentList:\n",
    "        print component\n",
    "        dfList.append(allDict[component][SN])\n",
    "    \n",
    "    combinedDf = pd.concat(dfList)\n",
    "    return combinedDf\n",
    "    p = BoxPlot(combinedDf, values='Value', label=['Component', 'Adjust'])\n",
    "    show(p)"
   ]
  },
  {
   "cell_type": "code",
   "execution_count": null,
   "metadata": {
    "collapsed": false
   },
   "outputs": [],
   "source": [
    "df = plot_adjust_compare_blox(componentDict, SN='FLQS29JFGRX5')"
   ]
  },
  {
   "cell_type": "code",
   "execution_count": null,
   "metadata": {
    "collapsed": false
   },
   "outputs": [],
   "source": [
    "df['Component'].value_counts()"
   ]
  },
  {
   "cell_type": "code",
   "execution_count": null,
   "metadata": {
    "collapsed": true
   },
   "outputs": [],
   "source": [
    "test = ['1adfas']"
   ]
  },
  {
   "cell_type": "code",
   "execution_count": null,
   "metadata": {
    "collapsed": false
   },
   "outputs": [],
   "source": [
    "test.append('13')"
   ]
  },
  {
   "cell_type": "code",
   "execution_count": null,
   "metadata": {
    "collapsed": false
   },
   "outputs": [],
   "source": [
    "test"
   ]
  },
  {
   "cell_type": "code",
   "execution_count": null,
   "metadata": {
    "collapsed": false
   },
   "outputs": [],
   "source": [
    "snStandDf."
   ]
  },
  {
   "cell_type": "code",
   "execution_count": null,
   "metadata": {
    "collapsed": false
   },
   "outputs": [],
   "source": [
    "snStandDf.iloc[0:32, 2] = 'test'"
   ]
  },
  {
   "cell_type": "code",
   "execution_count": null,
   "metadata": {
    "collapsed": true
   },
   "outputs": [],
   "source": [
    "diffOriDfStand = diffOriDf.loc[[sn]].T"
   ]
  },
  {
   "cell_type": "code",
   "execution_count": null,
   "metadata": {
    "collapsed": false
   },
   "outputs": [],
   "source": [
    "from bokeh.io import output_notebook\n",
    "output_notebook()"
   ]
  },
  {
   "cell_type": "code",
   "execution_count": null,
   "metadata": {
    "collapsed": false
   },
   "outputs": [],
   "source": [
    "p = BoxPlot(snStandDf, values='FLNS2037GRWV', label=['Adjust'])\n",
    "show(p)"
   ]
  },
  {
   "cell_type": "code",
   "execution_count": null,
   "metadata": {
    "collapsed": false
   },
   "outputs": [],
   "source": [
    "diffOriDfStand = diffOriDf.loc[['FLQS30KVGRWV']].T"
   ]
  },
  {
   "cell_type": "code",
   "execution_count": null,
   "metadata": {
    "collapsed": false
   },
   "outputs": [],
   "source": [
    "diffOriDfStand['adjust'] = True"
   ]
  },
  {
   "cell_type": "code",
   "execution_count": null,
   "metadata": {
    "collapsed": true
   },
   "outputs": [],
   "source": []
  }
 ],
 "metadata": {
  "kernelspec": {
   "display_name": "Python 2",
   "language": "python",
   "name": "python2"
  },
  "language_info": {
   "codemirror_mode": {
    "name": "ipython",
    "version": 2
   },
   "file_extension": ".py",
   "mimetype": "text/x-python",
   "name": "python",
   "nbconvert_exporter": "python",
   "pygments_lexer": "ipython2",
   "version": "2.7.9"
  },
  "latex_envs": {
   "bibliofile": "biblio.bib",
   "cite_by": "apalike",
   "current_citInitial": 1,
   "eqLabelWithNumbers": true,
   "eqNumInitial": 0
  }
 },
 "nbformat": 4,
 "nbformat_minor": 0
}
