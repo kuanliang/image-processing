{
 "cells": [
  {
   "cell_type": "code",
   "execution_count": 1,
   "metadata": {
    "collapsed": false
   },
   "outputs": [
    {
     "name": "stderr",
     "output_type": "stream",
     "text": [
      "/Users/hadoop1/anaconda/lib/python2.7/site-packages/pandas/computation/__init__.py:19: UserWarning: The installed version of numexpr 2.4.4 is not supported in pandas and will be not be used\n",
      "\n",
      "  UserWarning)\n"
     ]
    }
   ],
   "source": [
    "from Transform import createQueryDf"
   ]
  },
  {
   "cell_type": "code",
   "execution_count": 2,
   "metadata": {
    "collapsed": false
   },
   "outputs": [],
   "source": [
    "queryDf = createQueryDf('./data/12SN_CASE1/', tag='Normal')"
   ]
  },
  {
   "cell_type": "code",
   "execution_count": 3,
   "metadata": {
    "collapsed": true
   },
   "outputs": [],
   "source": [
    "from DataIO import load_model"
   ]
  },
  {
   "cell_type": "code",
   "execution_count": 4,
   "metadata": {
    "collapsed": false
   },
   "outputs": [],
   "source": [
    "model, columns = load_model('./model/model_20160718.dump')"
   ]
  },
  {
   "cell_type": "code",
   "execution_count": 5,
   "metadata": {
    "collapsed": false
   },
   "outputs": [
    {
     "data": {
      "text/plain": [
       "GridSearchCV(cv=None, error_score='raise',\n",
       "       estimator=Pipeline(steps=[('imputer', Imputer(axis=1, copy=True, missing_values='NaN', strategy='median', verbose=0)), ('scaler', RobustScaler(copy=True, with_centering=True, with_scaling=True)), ('clf', LogisticRegression(C=1.0, class_weight='balanced', dual=False,\n",
       "          fit_intercept=True, intercept_scaling=1, max_iter=1000,\n",
       "          multi_class='ovr', n_jobs=1, penalty='l2', random_state=None,\n",
       "          solver='liblinear', tol=0.0001, verbose=0, warm_start=False))]),\n",
       "       fit_params={}, iid=True, n_jobs=1,\n",
       "       param_grid={'clf__tol': (1, 0.1, 0.01, 0.001, 0.0001), 'clf__penalty': ('l1', 'l2'), 'clf__C': (10, 5, 1, 0.1, 0.01, 0.001, 0.0001)},\n",
       "       pre_dispatch='2*n_jobs', refit=True, scoring='f1_weighted',\n",
       "       verbose=0)"
      ]
     },
     "execution_count": 5,
     "metadata": {},
     "output_type": "execute_result"
    }
   ],
   "source": [
    "model"
   ]
  },
  {
   "cell_type": "code",
   "execution_count": 6,
   "metadata": {
    "collapsed": false
   },
   "outputs": [
    {
     "data": {
      "text/plain": [
       "Index([u'LD_Battery_Left_theta', u'LD_Battery_Left_thetaAbs',\n",
       "       u'LD_Battery_Left_x', u'LD_Battery_Left_y', u'LD_Battery_Left_z',\n",
       "       u'LD_Battery_Up_theta', u'LD_Battery_Up_thetaAbs', u'LD_Battery_Up_x',\n",
       "       u'LD_Battery_Up_y', u'LD_Battery_Up_z',\n",
       "       ...\n",
       "       u'LU_Voice_LD_thetaAbs', u'LU_Voice_LD_x', u'LU_Voice_LD_y',\n",
       "       u'LU_Voice_LD_z', u'LU_Voice_RU_theta', u'LU_Voice_RU_thetaAbs',\n",
       "       u'LU_Voice_RU_x', u'LU_Voice_RU_y', u'LU_Voice_RU_z', u'label'],\n",
       "      dtype='object', length=121)"
      ]
     },
     "execution_count": 6,
     "metadata": {},
     "output_type": "execute_result"
    }
   ],
   "source": [
    "columns"
   ]
  },
  {
   "cell_type": "code",
   "execution_count": 7,
   "metadata": {
    "collapsed": true
   },
   "outputs": [],
   "source": [
    "from Predict import predict_query"
   ]
  },
  {
   "cell_type": "code",
   "execution_count": 8,
   "metadata": {
    "collapsed": true
   },
   "outputs": [],
   "source": [
    "predict = predict_query?"
   ]
  },
  {
   "cell_type": "code",
   "execution_count": null,
   "metadata": {
    "collapsed": true
   },
   "outputs": [],
   "source": [
    "predict = predict_query"
   ]
  },
  {
   "cell_type": "code",
   "execution_count": 9,
   "metadata": {
    "collapsed": false
   },
   "outputs": [
    {
     "name": "stdout",
     "output_type": "stream",
     "text": [
      "0.0\n"
     ]
    }
   ],
   "source": [
    "predict = predict_query(queryDf, model, columns)"
   ]
  },
  {
   "cell_type": "code",
   "execution_count": 12,
   "metadata": {
    "collapsed": false
   },
   "outputs": [
    {
     "data": {
      "text/plain": [
       "array(['duplicate', 'duplicate', 'duplicate', 'duplicate', 'duplicate',\n",
       "       'duplicate', 'duplicate', 'duplicate', 'duplicate', 'duplicate',\n",
       "       'duplicate', 'duplicate'], dtype=object)"
      ]
     },
     "execution_count": 12,
     "metadata": {},
     "output_type": "execute_result"
    }
   ],
   "source": [
    "predict"
   ]
  },
  {
   "cell_type": "code",
   "execution_count": 10,
   "metadata": {
    "collapsed": false
   },
   "outputs": [
    {
     "data": {
      "text/html": [
       "<div>\n",
       "<table border=\"1\" class=\"dataframe\">\n",
       "  <thead>\n",
       "    <tr style=\"text-align: right;\">\n",
       "      <th>comp_metric</th>\n",
       "      <th>LD_Battery_Left_x</th>\n",
       "      <th>LD_Battery_Left_y</th>\n",
       "      <th>LD_Battery_Left_theta</th>\n",
       "      <th>LD_Battery_Up_x</th>\n",
       "      <th>LD_Battery_Up_y</th>\n",
       "      <th>LD_Battery_Up_theta</th>\n",
       "      <th>LD_Camera_LD_x</th>\n",
       "      <th>LD_Camera_LD_y</th>\n",
       "      <th>LD_Camera_LD_theta</th>\n",
       "      <th>LD_Camera_RU_x</th>\n",
       "      <th>...</th>\n",
       "      <th>LU_Button_LD_z</th>\n",
       "      <th>LU_Button_RU_z</th>\n",
       "      <th>LU_MainBoard_LD_z</th>\n",
       "      <th>LU_MainBoard_RD_z</th>\n",
       "      <th>LU_MainBoard_Sim_z</th>\n",
       "      <th>LU_Motor_LD_z</th>\n",
       "      <th>LU_Motor_RU_z</th>\n",
       "      <th>LU_Voice_LD_z</th>\n",
       "      <th>LU_Voice_RU_z</th>\n",
       "      <th>label</th>\n",
       "    </tr>\n",
       "  </thead>\n",
       "  <tbody>\n",
       "    <tr>\n",
       "      <th>FLQS2044GRWY_avg</th>\n",
       "      <td>-0.005219</td>\n",
       "      <td>0.121188</td>\n",
       "      <td>-0.044156</td>\n",
       "      <td>0.050063</td>\n",
       "      <td>-0.052594</td>\n",
       "      <td>-0.067062</td>\n",
       "      <td>-0.030813</td>\n",
       "      <td>-0.001812</td>\n",
       "      <td>-0.035594</td>\n",
       "      <td>-0.011594</td>\n",
       "      <td>...</td>\n",
       "      <td>0.054029</td>\n",
       "      <td>0.014975</td>\n",
       "      <td>0.063761</td>\n",
       "      <td>0.032522</td>\n",
       "      <td>0.054518</td>\n",
       "      <td>0.034081</td>\n",
       "      <td>0.077491</td>\n",
       "      <td>0.038727</td>\n",
       "      <td>0.053734</td>\n",
       "      <td>Normal</td>\n",
       "    </tr>\n",
       "    <tr>\n",
       "      <th>FLQS21YXGRX2_avg</th>\n",
       "      <td>-0.007375</td>\n",
       "      <td>0.038937</td>\n",
       "      <td>-0.210656</td>\n",
       "      <td>0.068281</td>\n",
       "      <td>-0.027344</td>\n",
       "      <td>-0.245594</td>\n",
       "      <td>0.054875</td>\n",
       "      <td>-0.019625</td>\n",
       "      <td>-0.236531</td>\n",
       "      <td>0.047969</td>\n",
       "      <td>...</td>\n",
       "      <td>0.023212</td>\n",
       "      <td>0.033565</td>\n",
       "      <td>0.041567</td>\n",
       "      <td>0.046803</td>\n",
       "      <td>0.065113</td>\n",
       "      <td>0.053454</td>\n",
       "      <td>0.058238</td>\n",
       "      <td>0.024593</td>\n",
       "      <td>0.049910</td>\n",
       "      <td>Normal</td>\n",
       "    </tr>\n",
       "    <tr>\n",
       "      <th>FLQS22TQGRX2_avg</th>\n",
       "      <td>0.012531</td>\n",
       "      <td>-0.039563</td>\n",
       "      <td>0.260813</td>\n",
       "      <td>0.007000</td>\n",
       "      <td>0.038125</td>\n",
       "      <td>0.249687</td>\n",
       "      <td>0.026094</td>\n",
       "      <td>0.031406</td>\n",
       "      <td>0.246000</td>\n",
       "      <td>0.020688</td>\n",
       "      <td>...</td>\n",
       "      <td>0.045470</td>\n",
       "      <td>0.062781</td>\n",
       "      <td>0.008838</td>\n",
       "      <td>0.022595</td>\n",
       "      <td>0.020676</td>\n",
       "      <td>0.030569</td>\n",
       "      <td>0.028002</td>\n",
       "      <td>0.021456</td>\n",
       "      <td>0.014685</td>\n",
       "      <td>Normal</td>\n",
       "    </tr>\n",
       "    <tr>\n",
       "      <th>FLQS22XEGRX2_avg</th>\n",
       "      <td>-0.019344</td>\n",
       "      <td>-0.084687</td>\n",
       "      <td>0.007281</td>\n",
       "      <td>0.042844</td>\n",
       "      <td>-0.000219</td>\n",
       "      <td>-0.010406</td>\n",
       "      <td>0.035063</td>\n",
       "      <td>0.006500</td>\n",
       "      <td>-0.016594</td>\n",
       "      <td>0.041656</td>\n",
       "      <td>...</td>\n",
       "      <td>0.042763</td>\n",
       "      <td>0.020579</td>\n",
       "      <td>0.039496</td>\n",
       "      <td>0.023100</td>\n",
       "      <td>0.031618</td>\n",
       "      <td>0.040371</td>\n",
       "      <td>0.086782</td>\n",
       "      <td>0.024981</td>\n",
       "      <td>0.053223</td>\n",
       "      <td>Normal</td>\n",
       "    </tr>\n",
       "    <tr>\n",
       "      <th>FLQS29JFGRX5_avg</th>\n",
       "      <td>0.055750</td>\n",
       "      <td>0.020719</td>\n",
       "      <td>0.224906</td>\n",
       "      <td>0.139844</td>\n",
       "      <td>0.017469</td>\n",
       "      <td>0.193062</td>\n",
       "      <td>0.064406</td>\n",
       "      <td>0.037063</td>\n",
       "      <td>0.225250</td>\n",
       "      <td>0.077781</td>\n",
       "      <td>...</td>\n",
       "      <td>0.022878</td>\n",
       "      <td>0.027838</td>\n",
       "      <td>0.018013</td>\n",
       "      <td>0.029353</td>\n",
       "      <td>0.064362</td>\n",
       "      <td>0.071151</td>\n",
       "      <td>0.090338</td>\n",
       "      <td>0.050955</td>\n",
       "      <td>0.070007</td>\n",
       "      <td>Normal</td>\n",
       "    </tr>\n",
       "    <tr>\n",
       "      <th>FLQS2AVTGRX5_avg</th>\n",
       "      <td>0.058656</td>\n",
       "      <td>0.135125</td>\n",
       "      <td>-0.109031</td>\n",
       "      <td>0.016937</td>\n",
       "      <td>0.018938</td>\n",
       "      <td>-0.075594</td>\n",
       "      <td>0.014813</td>\n",
       "      <td>0.023500</td>\n",
       "      <td>-0.078969</td>\n",
       "      <td>0.038500</td>\n",
       "      <td>...</td>\n",
       "      <td>0.065183</td>\n",
       "      <td>0.084514</td>\n",
       "      <td>0.061450</td>\n",
       "      <td>0.045757</td>\n",
       "      <td>0.014676</td>\n",
       "      <td>0.009163</td>\n",
       "      <td>0.105849</td>\n",
       "      <td>0.058484</td>\n",
       "      <td>0.010566</td>\n",
       "      <td>Normal</td>\n",
       "    </tr>\n",
       "    <tr>\n",
       "      <th>FLQS3087GRWV_avg</th>\n",
       "      <td>-0.190219</td>\n",
       "      <td>-0.059094</td>\n",
       "      <td>0.234719</td>\n",
       "      <td>-0.194219</td>\n",
       "      <td>-0.032250</td>\n",
       "      <td>0.193719</td>\n",
       "      <td>-0.370938</td>\n",
       "      <td>-0.047656</td>\n",
       "      <td>0.252406</td>\n",
       "      <td>-0.462594</td>\n",
       "      <td>...</td>\n",
       "      <td>0.189978</td>\n",
       "      <td>0.086170</td>\n",
       "      <td>0.199257</td>\n",
       "      <td>0.366293</td>\n",
       "      <td>0.206953</td>\n",
       "      <td>0.271460</td>\n",
       "      <td>0.163437</td>\n",
       "      <td>0.152751</td>\n",
       "      <td>0.273744</td>\n",
       "      <td>Normal</td>\n",
       "    </tr>\n",
       "    <tr>\n",
       "      <th>FLQS30C7GRWV_avg</th>\n",
       "      <td>-0.088844</td>\n",
       "      <td>0.074125</td>\n",
       "      <td>0.049250</td>\n",
       "      <td>-0.129594</td>\n",
       "      <td>-0.007375</td>\n",
       "      <td>0.071719</td>\n",
       "      <td>-0.163781</td>\n",
       "      <td>-0.038656</td>\n",
       "      <td>0.070594</td>\n",
       "      <td>-0.164781</td>\n",
       "      <td>...</td>\n",
       "      <td>0.122056</td>\n",
       "      <td>0.116093</td>\n",
       "      <td>0.076695</td>\n",
       "      <td>0.081700</td>\n",
       "      <td>0.060054</td>\n",
       "      <td>0.042358</td>\n",
       "      <td>0.111438</td>\n",
       "      <td>0.117140</td>\n",
       "      <td>0.057090</td>\n",
       "      <td>Normal</td>\n",
       "    </tr>\n",
       "    <tr>\n",
       "      <th>FLQS30CWGRWV_avg</th>\n",
       "      <td>0.018125</td>\n",
       "      <td>0.071406</td>\n",
       "      <td>0.138219</td>\n",
       "      <td>-0.002531</td>\n",
       "      <td>0.043219</td>\n",
       "      <td>0.161000</td>\n",
       "      <td>-0.002781</td>\n",
       "      <td>0.031563</td>\n",
       "      <td>0.143500</td>\n",
       "      <td>0.004844</td>\n",
       "      <td>...</td>\n",
       "      <td>0.052033</td>\n",
       "      <td>0.055697</td>\n",
       "      <td>0.023372</td>\n",
       "      <td>0.042085</td>\n",
       "      <td>0.061402</td>\n",
       "      <td>0.055383</td>\n",
       "      <td>0.051036</td>\n",
       "      <td>0.028619</td>\n",
       "      <td>0.062960</td>\n",
       "      <td>Normal</td>\n",
       "    </tr>\n",
       "    <tr>\n",
       "      <th>FLQS30KBGRWV_avg</th>\n",
       "      <td>0.081938</td>\n",
       "      <td>0.065344</td>\n",
       "      <td>-0.081531</td>\n",
       "      <td>0.117688</td>\n",
       "      <td>0.010938</td>\n",
       "      <td>-0.085437</td>\n",
       "      <td>-0.042625</td>\n",
       "      <td>-0.004625</td>\n",
       "      <td>-0.029438</td>\n",
       "      <td>-0.034094</td>\n",
       "      <td>...</td>\n",
       "      <td>0.086505</td>\n",
       "      <td>0.139042</td>\n",
       "      <td>0.090635</td>\n",
       "      <td>0.129711</td>\n",
       "      <td>0.103264</td>\n",
       "      <td>0.085806</td>\n",
       "      <td>0.101639</td>\n",
       "      <td>0.139567</td>\n",
       "      <td>0.110815</td>\n",
       "      <td>Normal</td>\n",
       "    </tr>\n",
       "    <tr>\n",
       "      <th>FLQS30KVGRWV_avg</th>\n",
       "      <td>-0.148219</td>\n",
       "      <td>0.058812</td>\n",
       "      <td>0.032844</td>\n",
       "      <td>-0.165313</td>\n",
       "      <td>-0.044500</td>\n",
       "      <td>0.040125</td>\n",
       "      <td>-0.256500</td>\n",
       "      <td>-0.073094</td>\n",
       "      <td>0.062250</td>\n",
       "      <td>-0.258594</td>\n",
       "      <td>...</td>\n",
       "      <td>0.175272</td>\n",
       "      <td>0.208716</td>\n",
       "      <td>0.184338</td>\n",
       "      <td>0.108404</td>\n",
       "      <td>0.106254</td>\n",
       "      <td>0.150223</td>\n",
       "      <td>0.217091</td>\n",
       "      <td>0.158281</td>\n",
       "      <td>0.145803</td>\n",
       "      <td>Normal</td>\n",
       "    </tr>\n",
       "    <tr>\n",
       "      <th>FLQS312SGRWV_avg</th>\n",
       "      <td>0.004437</td>\n",
       "      <td>-0.081219</td>\n",
       "      <td>-0.020500</td>\n",
       "      <td>0.109094</td>\n",
       "      <td>0.011375</td>\n",
       "      <td>-0.085375</td>\n",
       "      <td>-0.035875</td>\n",
       "      <td>-0.001875</td>\n",
       "      <td>-0.010969</td>\n",
       "      <td>-0.026156</td>\n",
       "      <td>...</td>\n",
       "      <td>0.056701</td>\n",
       "      <td>0.027457</td>\n",
       "      <td>0.019279</td>\n",
       "      <td>0.054911</td>\n",
       "      <td>0.027368</td>\n",
       "      <td>0.010890</td>\n",
       "      <td>0.071452</td>\n",
       "      <td>0.058463</td>\n",
       "      <td>0.038482</td>\n",
       "      <td>Normal</td>\n",
       "    </tr>\n",
       "  </tbody>\n",
       "</table>\n",
       "<p>12 rows × 121 columns</p>\n",
       "</div>"
      ],
      "text/plain": [
       "comp_metric       LD_Battery_Left_x  LD_Battery_Left_y  LD_Battery_Left_theta  \\\n",
       "FLQS2044GRWY_avg          -0.005219           0.121188              -0.044156   \n",
       "FLQS21YXGRX2_avg          -0.007375           0.038937              -0.210656   \n",
       "FLQS22TQGRX2_avg           0.012531          -0.039563               0.260813   \n",
       "FLQS22XEGRX2_avg          -0.019344          -0.084687               0.007281   \n",
       "FLQS29JFGRX5_avg           0.055750           0.020719               0.224906   \n",
       "FLQS2AVTGRX5_avg           0.058656           0.135125              -0.109031   \n",
       "FLQS3087GRWV_avg          -0.190219          -0.059094               0.234719   \n",
       "FLQS30C7GRWV_avg          -0.088844           0.074125               0.049250   \n",
       "FLQS30CWGRWV_avg           0.018125           0.071406               0.138219   \n",
       "FLQS30KBGRWV_avg           0.081938           0.065344              -0.081531   \n",
       "FLQS30KVGRWV_avg          -0.148219           0.058812               0.032844   \n",
       "FLQS312SGRWV_avg           0.004437          -0.081219              -0.020500   \n",
       "\n",
       "comp_metric       LD_Battery_Up_x  LD_Battery_Up_y  LD_Battery_Up_theta  \\\n",
       "FLQS2044GRWY_avg         0.050063        -0.052594            -0.067062   \n",
       "FLQS21YXGRX2_avg         0.068281        -0.027344            -0.245594   \n",
       "FLQS22TQGRX2_avg         0.007000         0.038125             0.249687   \n",
       "FLQS22XEGRX2_avg         0.042844        -0.000219            -0.010406   \n",
       "FLQS29JFGRX5_avg         0.139844         0.017469             0.193062   \n",
       "FLQS2AVTGRX5_avg         0.016937         0.018938            -0.075594   \n",
       "FLQS3087GRWV_avg        -0.194219        -0.032250             0.193719   \n",
       "FLQS30C7GRWV_avg        -0.129594        -0.007375             0.071719   \n",
       "FLQS30CWGRWV_avg        -0.002531         0.043219             0.161000   \n",
       "FLQS30KBGRWV_avg         0.117688         0.010938            -0.085437   \n",
       "FLQS30KVGRWV_avg        -0.165313        -0.044500             0.040125   \n",
       "FLQS312SGRWV_avg         0.109094         0.011375            -0.085375   \n",
       "\n",
       "comp_metric       LD_Camera_LD_x  LD_Camera_LD_y  LD_Camera_LD_theta  \\\n",
       "FLQS2044GRWY_avg       -0.030813       -0.001812           -0.035594   \n",
       "FLQS21YXGRX2_avg        0.054875       -0.019625           -0.236531   \n",
       "FLQS22TQGRX2_avg        0.026094        0.031406            0.246000   \n",
       "FLQS22XEGRX2_avg        0.035063        0.006500           -0.016594   \n",
       "FLQS29JFGRX5_avg        0.064406        0.037063            0.225250   \n",
       "FLQS2AVTGRX5_avg        0.014813        0.023500           -0.078969   \n",
       "FLQS3087GRWV_avg       -0.370938       -0.047656            0.252406   \n",
       "FLQS30C7GRWV_avg       -0.163781       -0.038656            0.070594   \n",
       "FLQS30CWGRWV_avg       -0.002781        0.031563            0.143500   \n",
       "FLQS30KBGRWV_avg       -0.042625       -0.004625           -0.029438   \n",
       "FLQS30KVGRWV_avg       -0.256500       -0.073094            0.062250   \n",
       "FLQS312SGRWV_avg       -0.035875       -0.001875           -0.010969   \n",
       "\n",
       "comp_metric       LD_Camera_RU_x   ...    LU_Button_LD_z  LU_Button_RU_z  \\\n",
       "FLQS2044GRWY_avg       -0.011594   ...          0.054029        0.014975   \n",
       "FLQS21YXGRX2_avg        0.047969   ...          0.023212        0.033565   \n",
       "FLQS22TQGRX2_avg        0.020688   ...          0.045470        0.062781   \n",
       "FLQS22XEGRX2_avg        0.041656   ...          0.042763        0.020579   \n",
       "FLQS29JFGRX5_avg        0.077781   ...          0.022878        0.027838   \n",
       "FLQS2AVTGRX5_avg        0.038500   ...          0.065183        0.084514   \n",
       "FLQS3087GRWV_avg       -0.462594   ...          0.189978        0.086170   \n",
       "FLQS30C7GRWV_avg       -0.164781   ...          0.122056        0.116093   \n",
       "FLQS30CWGRWV_avg        0.004844   ...          0.052033        0.055697   \n",
       "FLQS30KBGRWV_avg       -0.034094   ...          0.086505        0.139042   \n",
       "FLQS30KVGRWV_avg       -0.258594   ...          0.175272        0.208716   \n",
       "FLQS312SGRWV_avg       -0.026156   ...          0.056701        0.027457   \n",
       "\n",
       "comp_metric       LU_MainBoard_LD_z  LU_MainBoard_RD_z  LU_MainBoard_Sim_z  \\\n",
       "FLQS2044GRWY_avg           0.063761           0.032522            0.054518   \n",
       "FLQS21YXGRX2_avg           0.041567           0.046803            0.065113   \n",
       "FLQS22TQGRX2_avg           0.008838           0.022595            0.020676   \n",
       "FLQS22XEGRX2_avg           0.039496           0.023100            0.031618   \n",
       "FLQS29JFGRX5_avg           0.018013           0.029353            0.064362   \n",
       "FLQS2AVTGRX5_avg           0.061450           0.045757            0.014676   \n",
       "FLQS3087GRWV_avg           0.199257           0.366293            0.206953   \n",
       "FLQS30C7GRWV_avg           0.076695           0.081700            0.060054   \n",
       "FLQS30CWGRWV_avg           0.023372           0.042085            0.061402   \n",
       "FLQS30KBGRWV_avg           0.090635           0.129711            0.103264   \n",
       "FLQS30KVGRWV_avg           0.184338           0.108404            0.106254   \n",
       "FLQS312SGRWV_avg           0.019279           0.054911            0.027368   \n",
       "\n",
       "comp_metric       LU_Motor_LD_z  LU_Motor_RU_z  LU_Voice_LD_z  LU_Voice_RU_z  \\\n",
       "FLQS2044GRWY_avg       0.034081       0.077491       0.038727       0.053734   \n",
       "FLQS21YXGRX2_avg       0.053454       0.058238       0.024593       0.049910   \n",
       "FLQS22TQGRX2_avg       0.030569       0.028002       0.021456       0.014685   \n",
       "FLQS22XEGRX2_avg       0.040371       0.086782       0.024981       0.053223   \n",
       "FLQS29JFGRX5_avg       0.071151       0.090338       0.050955       0.070007   \n",
       "FLQS2AVTGRX5_avg       0.009163       0.105849       0.058484       0.010566   \n",
       "FLQS3087GRWV_avg       0.271460       0.163437       0.152751       0.273744   \n",
       "FLQS30C7GRWV_avg       0.042358       0.111438       0.117140       0.057090   \n",
       "FLQS30CWGRWV_avg       0.055383       0.051036       0.028619       0.062960   \n",
       "FLQS30KBGRWV_avg       0.085806       0.101639       0.139567       0.110815   \n",
       "FLQS30KVGRWV_avg       0.150223       0.217091       0.158281       0.145803   \n",
       "FLQS312SGRWV_avg       0.010890       0.071452       0.058463       0.038482   \n",
       "\n",
       "comp_metric        label  \n",
       "FLQS2044GRWY_avg  Normal  \n",
       "FLQS21YXGRX2_avg  Normal  \n",
       "FLQS22TQGRX2_avg  Normal  \n",
       "FLQS22XEGRX2_avg  Normal  \n",
       "FLQS29JFGRX5_avg  Normal  \n",
       "FLQS2AVTGRX5_avg  Normal  \n",
       "FLQS3087GRWV_avg  Normal  \n",
       "FLQS30C7GRWV_avg  Normal  \n",
       "FLQS30CWGRWV_avg  Normal  \n",
       "FLQS30KBGRWV_avg  Normal  \n",
       "FLQS30KVGRWV_avg  Normal  \n",
       "FLQS312SGRWV_avg  Normal  \n",
       "\n",
       "[12 rows x 121 columns]"
      ]
     },
     "execution_count": 10,
     "metadata": {},
     "output_type": "execute_result"
    }
   ],
   "source": [
    "queryDf"
   ]
  },
  {
   "cell_type": "code",
   "execution_count": null,
   "metadata": {
    "collapsed": true
   },
   "outputs": [],
   "source": []
  }
 ],
 "metadata": {
  "kernelspec": {
   "display_name": "Python 2",
   "language": "python",
   "name": "python2"
  },
  "language_info": {
   "codemirror_mode": {
    "name": "ipython",
    "version": 2
   },
   "file_extension": ".py",
   "mimetype": "text/x-python",
   "name": "python",
   "nbconvert_exporter": "python",
   "pygments_lexer": "ipython2",
   "version": "2.7.11"
  },
  "latex_envs": {
   "bibliofile": "biblio.bib",
   "cite_by": "apalike",
   "current_citInitial": 1,
   "eqLabelWithNumbers": true,
   "eqNumInitial": 0
  }
 },
 "nbformat": 4,
 "nbformat_minor": 0
}
